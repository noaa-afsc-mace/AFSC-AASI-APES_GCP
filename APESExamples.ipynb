{
 "cells": [
  {
   "cell_type": "markdown",
   "id": "d1c893b8-1e72-4a44-93d2-3a5c86a75030",
   "metadata": {},
   "source": [
    "# APES Examples using Jupyter Julia Notebook\n",
    "\n",
    "This notebook was designed for running the APES examples provided at [AFSC-AASI-APES_GCP](https://github.com/noaa-afsc-mace/AFSC-AASI-APES_GCP) on a NOAA Fisheries GCP workstation using a [Docker Jupyter Lab Julia notebook](https://hub.docker.com/r/jupyter/julia-notebook). Prior to running the code below, ensure that the steps below were executed by following the instructions below. More details on these instruction are at the AFSC-AASI-APES_GCP repo.\n",
    "\n",
    "## Computer setup\n",
    "1. Install the Google cloud CLI tools on your work computer.\n",
    "\n",
    "## Google Cloud worstation setup\n",
    "1. Create Linux workstation.\n",
    "2. Use a terminal program and the Google cloud CLI to connect to your workstation via SSH tunnel.\n",
    "3. Clone [AFSC-AASI-APES_GCP](https://github.com/noaa-afsc-mace/AFSC-AASI-APES_GCP) to the workstation.\n",
    "4. Run the following commands:\n",
    "   ```bash\n",
    "    cd AFSC-AASI-APES_GCP \n",
    "    chmod +x APES_demo_install.sh \n",
    "    ./APES_demo_install.sh\n",
    "    ```\n",
    "5. Use the LAUNCH button on the workstation page to connect to port 80 and use password 'APES'\n",
    "   \n",
    "## Jupyter Lab setup\n",
    "1. Open APESExamples.ipynb in the APESExample folder.\n",
    "2. Using top-right drop down menu, connect the notebook to the Julia 1.9.3 kernel.\n",
    "3. Make sure that the bottom bar indicates Julia 1.9.3 is idle.\n",
    "4. If the notebook doesn't connect to the Julia kernel, use the Launcher page to open a Julia console and then conncet the notebook to the console."
   ]
  },
  {
   "cell_type": "code",
   "execution_count": null,
   "id": "bf8a66a5-7f73-45c6-a122-544beb559e44",
   "metadata": {},
   "outputs": [],
   "source": [
    "cd(\"APESExamples\")"
   ]
  },
  {
   "cell_type": "code",
   "execution_count": null,
   "id": "761e0d33-646a-4e0e-be80-e7f33a9c9cae",
   "metadata": {},
   "outputs": [],
   "source": [
    "using Pkg\n",
    "Pkg.activate(pwd())"
   ]
  },
  {
   "cell_type": "code",
   "execution_count": null,
   "id": "cdddfdac-d56a-4352-9476-5f555b7dfb66",
   "metadata": {},
   "outputs": [],
   "source": [
    "Pkg.instantiate()"
   ]
  },
  {
   "cell_type": "code",
   "execution_count": null,
   "id": "b7c84f36-1ae9-4b53-b3ef-36fe5f6a3cba",
   "metadata": {},
   "outputs": [],
   "source": [
    "include(\"mesopelagic_mix_simulation/mesopelagic_mixture.jl\")"
   ]
  },
  {
   "cell_type": "code",
   "execution_count": null,
   "id": "07f0e2ff-48be-4d3e-aa7b-0d6bbdd77e87",
   "metadata": {},
   "outputs": [],
   "source": []
  }
 ],
 "metadata": {
  "kernelspec": {
   "display_name": "Julia 1.11.3",
   "language": "julia",
   "name": "julia-1.11"
  },
  "language_info": {
   "file_extension": ".jl",
   "mimetype": "application/julia",
   "name": "julia",
   "version": "1.11.3"
  }
 },
 "nbformat": 4,
 "nbformat_minor": 5
}
