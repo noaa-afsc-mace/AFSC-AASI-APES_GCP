{
 "cells": [
  {
   "cell_type": "markdown",
   "id": "d1c893b8-1e72-4a44-93d2-3a5c86a75030",
   "metadata": {},
   "source": [
    "# APES Examples using Jupyter Notebook\n",
    "This notebook provides steps for executing the instrutions and examples from [APESExamples](https://github.com/ElOceanografo/APESExamples)."
   ]
  },
  {
   "cell_type": "markdown",
   "id": "d8adcf35-4ae0-4c8a-815d-42fdd2734c39",
   "metadata": {},
   "source": [
    "Before we start, we need to move into the APESExamples folder that contains all the example files and code."
   ]
  },
  {
   "cell_type": "code",
   "execution_count": null,
   "id": "bf8a66a5-7f73-45c6-a122-544beb559e44",
   "metadata": {},
   "outputs": [],
   "source": [
    "cd(\"APESExamples\")"
   ]
  },
  {
   "cell_type": "markdown",
   "id": "49ee593e-36b1-4e81-9eae-fa49bbc04b5e",
   "metadata": {},
   "source": [
    "Next, activate a virtual environment to develop and run Julia code"
   ]
  },
  {
   "cell_type": "code",
   "execution_count": null,
   "id": "761e0d33-646a-4e0e-be80-e7f33a9c9cae",
   "metadata": {},
   "outputs": [],
   "source": [
    "using Pkg\n",
    "Pkg.activate(\".\")"
   ]
  },
  {
   "cell_type": "markdown",
   "id": "182bd50d-0c4a-4f9f-8d28-1b6b7b30dee3",
   "metadata": {},
   "source": [
    "Run instantiate to load and pre-compile the Julia packages needed to run the APES examples. This step can take a long time. If you are using the Docker container that can be created using the code provided at [AFSC-AASI-APES_GCP](https://github.com/noaa-afsc-mace/AFSC-AASI-APES_GCP), you can skip this step. That container already has the Julia packages loaded and precompiled.\r\n"
   ]
  },
  {
   "cell_type": "code",
   "execution_count": null,
   "id": "cdddfdac-d56a-4352-9476-5f555b7dfb66",
   "metadata": {},
   "outputs": [],
   "source": [
    "Pkg.instantiate()"
   ]
  },
  {
   "cell_type": "markdown",
   "id": "4512b5a4-9ecc-4595-bde7-7e70d9418184",
   "metadata": {},
   "source": [
    "Use include to run the four provided APES examples. There is less data included in the simulated examples, so it will take less time to run these. The displayed images will be saved in the plots folder of each example. If you want to better understand the examples, use the notebook included in the folder of each to orient yourself to the code."
   ]
  },
  {
   "cell_type": "code",
   "execution_count": null,
   "id": "b375de4c-91f7-475e-8be5-1be58b6ec817",
   "metadata": {},
   "outputs": [],
   "source": [
    "include(\"fish_krill_simulation/fish_krill.jl\")"
   ]
  },
  {
   "cell_type": "code",
   "execution_count": null,
   "id": "b7c84f36-1ae9-4b53-b3ef-36fe5f6a3cba",
   "metadata": {},
   "outputs": [],
   "source": [
    "include(\"mesopelagic_mix_simulation/mesopelagic_mixture.jl\")"
   ]
  },
  {
   "cell_type": "code",
   "execution_count": null,
   "id": "4a7d0ec8-ab00-436a-8f03-c1d27d3feae7",
   "metadata": {},
   "outputs": [],
   "source": [
    "include(\"aleutian_narrowband/aleutian_narrowband.jl\")"
   ]
  },
  {
   "cell_type": "code",
   "execution_count": null,
   "id": "f05b1efa-681a-42b8-bddb-dee5592123e7",
   "metadata": {},
   "outputs": [],
   "source": [
    "include(\"barnabas_broadband/barnabas_broadband.jl\")"
   ]
  }
 ],
 "metadata": {
  "kernelspec": {
   "display_name": "Julia 1.11.3",
   "language": "julia",
   "name": "julia-1.11"
  },
  "language_info": {
   "file_extension": ".jl",
   "mimetype": "application/julia",
   "name": "julia",
   "version": "1.11.3"
  }
 },
 "nbformat": 4,
 "nbformat_minor": 5
}
